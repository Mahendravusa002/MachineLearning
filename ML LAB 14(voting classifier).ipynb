{
 "cells": [
  {
   "cell_type": "code",
   "execution_count": 1,
   "id": "84ae2e3f",
   "metadata": {},
   "outputs": [
    {
     "name": "stdout",
     "output_type": "stream",
     "text": [
      "Voting Classifier Accuracy: 100.00%\n"
     ]
    },
    {
     "name": "stderr",
     "output_type": "stream",
     "text": [
      "C:\\ProgramData\\Anaconda3\\lib\\site-packages\\sklearn\\linear_model\\_logistic.py:814: ConvergenceWarning: lbfgs failed to converge (status=1):\n",
      "STOP: TOTAL NO. of ITERATIONS REACHED LIMIT.\n",
      "\n",
      "Increase the number of iterations (max_iter) or scale the data as shown in:\n",
      "    https://scikit-learn.org/stable/modules/preprocessing.html\n",
      "Please also refer to the documentation for alternative solver options:\n",
      "    https://scikit-learn.org/stable/modules/linear_model.html#logistic-regression\n",
      "  n_iter_i = _check_optimize_result(\n"
     ]
    }
   ],
   "source": [
    "from sklearn.ensemble import RandomForestClassifier, GradientBoostingClassifier, VotingClassifier\n",
    "from sklearn.linear_model import LogisticRegression\n",
    "from sklearn.datasets import load_iris\n",
    "from sklearn.model_selection import train_test_split\n",
    "from sklearn.metrics import accuracy_score\n",
    "\n",
    "# Load the iris dataset as an example\n",
    "iris = load_iris()\n",
    "X = iris.data\n",
    "y = iris.target\n",
    "\n",
    "# Split the dataset into training and testing sets\n",
    "X_train, X_test, y_train, y_test = train_test_split(X, y, test_size=0.2, random_state=42)\n",
    "\n",
    "clf1 = RandomForestClassifier(n_estimators=50, random_state=42)\n",
    "clf2 = GradientBoostingClassifier(n_estimators=50, random_state=42)\n",
    "clf3 = LogisticRegression(random_state=42)\n",
    "\n",
    "# Create a VotingClassifier with 'hard' voting (majority voting)\n",
    "voting_clf = VotingClassifier(estimators=[('rf', clf1), ('gb', clf2), ('lr', clf3)], voting='hard')\n",
    "\n",
    "# Fit the VotingClassifier on the training data\n",
    "voting_clf.fit(X_train, y_train)\n",
    "\n",
    "\n",
    "y_pred = voting_clf.predict(X_test)\n",
    "\n",
    "# Evaluate the accuracy of the VotingClassifier\n",
    "accuracy = accuracy_score(y_test, y_pred)\n",
    "print(\"Voting Classifier Accuracy: {:.2f}%\".format(accuracy * 100))"
   ]
  },
  {
   "cell_type": "code",
   "execution_count": 5,
   "id": "c241490e",
   "metadata": {},
   "outputs": [],
   "source": [
    "def evaluate(model, X_train, X_test, y_train, y_test):\n",
    "    # Make predictions on the training set\n",
    "    train_preds = model.predict(X_train)\n",
    "    # Make predictions on the test set\n",
    "    test_preds = model.predict(X_test)\n",
    "\n",
    "    # Evaluate training set performance\n",
    "    print(\"Training Set Accuracy: {:.2f}%\".format(accuracy_score(y_train, train_preds) * 100))\n",
    "    print(\"Training Set Classification Report:\\n\", classification_report(y_train, train_preds))\n",
    "    print(\"Training Set Confusion Matrix:\\n\", confusion_matrix(y_train, train_preds))\n",
    "\n",
    "    # Evaluate test set performance\n",
    "    print(\"\\nTest Set Accuracy: {:.2f}%\".format(accuracy_score(y_test, test_preds) * 100))\n",
    "    print(\"Test Set Classification Report:\\n\", classification_report(y_test, test_preds))\n",
    "    print(\"Test Set Confusion Matrix:\\n\", confusion_matrix(y_test, test_preds))\n"
   ]
  },
  {
   "cell_type": "code",
   "execution_count": 7,
   "id": "fae34a9e",
   "metadata": {},
   "outputs": [
    {
     "name": "stdout",
     "output_type": "stream",
     "text": [
      "Training Set Accuracy: 99.17%\n",
      "Training Set Classification Report:\n",
      "               precision    recall  f1-score   support\n",
      "\n",
      "           0       1.00      1.00      1.00        40\n",
      "           1       1.00      0.98      0.99        41\n",
      "           2       0.97      1.00      0.99        39\n",
      "\n",
      "    accuracy                           0.99       120\n",
      "   macro avg       0.99      0.99      0.99       120\n",
      "weighted avg       0.99      0.99      0.99       120\n",
      "\n",
      "Training Set Confusion Matrix:\n",
      " [[40  0  0]\n",
      " [ 0 40  1]\n",
      " [ 0  0 39]]\n",
      "\n",
      "Test Set Accuracy: 100.00%\n",
      "Test Set Classification Report:\n",
      "               precision    recall  f1-score   support\n",
      "\n",
      "           0       1.00      1.00      1.00        10\n",
      "           1       1.00      1.00      1.00         9\n",
      "           2       1.00      1.00      1.00        11\n",
      "\n",
      "    accuracy                           1.00        30\n",
      "   macro avg       1.00      1.00      1.00        30\n",
      "weighted avg       1.00      1.00      1.00        30\n",
      "\n",
      "Test Set Confusion Matrix:\n",
      " [[10  0  0]\n",
      " [ 0  9  0]\n",
      " [ 0  0 11]]\n"
     ]
    }
   ],
   "source": [
    "from sklearn.ensemble import VotingClassifier  \n",
    "from sklearn.linear_model import LogisticRegression  \n",
    "from sklearn.tree import DecisionTreeClassifier\n",
    "from sklearn.svm import SVC \n",
    "from sklearn.metrics import accuracy_score, classification_report, confusion_matrix\n",
    "  \n",
    "estimators = []  \n",
    "log_reg = LogisticRegression(solver='liblinear')  \n",
    "estimators.append(('Logistic', log_reg))  \n",
    "  \n",
    "tree = DecisionTreeClassifier()  \n",
    "estimators.append(('Tree', tree))  \n",
    "  \n",
    "svm_clf = SVC(gamma='scale')  \n",
    "estimators.append(('SVM', svm_clf))  \n",
    "  \n",
    "voting = VotingClassifier(estimators=estimators)  \n",
    "voting.fit(X_train, y_train)  \n",
    "  \n",
    "evaluate(voting, X_train, X_test, y_train, y_test) \n",
    "\n",
    "\n",
    "\n"
   ]
  },
  {
   "cell_type": "code",
   "execution_count": null,
   "id": "9a07dd6a",
   "metadata": {},
   "outputs": [],
   "source": []
  }
 ],
 "metadata": {
  "kernelspec": {
   "display_name": "Python 3 (ipykernel)",
   "language": "python",
   "name": "python3"
  },
  "language_info": {
   "codemirror_mode": {
    "name": "ipython",
    "version": 3
   },
   "file_extension": ".py",
   "mimetype": "text/x-python",
   "name": "python",
   "nbconvert_exporter": "python",
   "pygments_lexer": "ipython3",
   "version": "3.9.13"
  }
 },
 "nbformat": 4,
 "nbformat_minor": 5
}
